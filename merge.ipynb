{
 "cells": [
  {
   "cell_type": "markdown",
   "metadata": {},
   "source": [
    "Merginng datasets"
   ]
  },
  {
   "cell_type": "code",
   "execution_count": 3,
   "metadata": {},
   "outputs": [
    {
     "name": "stdout",
     "output_type": "stream",
     "text": [
      "        date district    rainfall   min temp   max temp  mean temp  \\\n",
      "0 2011-01-31   Ampara  679.721439  21.789041  26.882796  23.939401   \n",
      "1 2011-02-28   Ampara  533.827970  22.309999  28.360154  24.932640   \n",
      "2 2011-03-31   Ampara   92.269087  22.493815  30.511428  25.966950   \n",
      "3 2011-04-30   Ampara  211.250235  23.693299  31.875488  27.026611   \n",
      "4 2011-05-31   Ampara   46.897325  25.055955  33.905659  29.092735   \n",
      "\n",
      "   wind speed  dew point  surface pressure  relative humidity  cloud coverage  \\\n",
      "0    2.489429  21.738182      99869.278348          87.501234        0.803371   \n",
      "1    2.004060  22.150662      99885.309153          84.547353        0.795664   \n",
      "2    1.257147  22.677968      99860.783875          82.094719        0.628763   \n",
      "3    0.887599  23.344425      99809.878982          80.294507        0.540800   \n",
      "4    1.857853  23.699582      99681.169959          72.717573        0.471534   \n",
      "\n",
      "   solar radiation  min elevation  max elevation  mean elevation  tree_cover  \\\n",
      "0       375.340592            -20            858       65.859763   26.595149   \n",
      "1       501.604819            -20            858       65.859763   26.595149   \n",
      "2       676.279411            -20            858       65.859763   26.595149   \n",
      "3       788.934695            -20            858       65.859763   26.595149   \n",
      "4       828.511698            -20            858       65.859763   26.595149   \n",
      "\n",
      "   urbanization  \n",
      "0      1.989998  \n",
      "1      1.989998  \n",
      "2      1.989998  \n",
      "3      1.989998  \n",
      "4      1.989998  \n"
     ]
    }
   ],
   "source": [
    "# import pandas as pd\n",
    "\n",
    "# # Load the datasets from Excel files\n",
    "# dengue_2011 = pd.read_excel('_dengue_dataset_2011.xlsx')\n",
    "# dengue_2012 = pd.read_excel('_dengue_dataset_2012.xlsx')\n",
    "\n",
    "# # Merge the datasets\n",
    "# merged_dengue_data = pd.concat([dengue_2011, dengue_2012], axis=0)\n",
    "\n",
    "# # Reset index if necessary\n",
    "# merged_dengue_data.reset_index(drop=True, inplace=True)\n",
    "\n",
    "# # Optionally save the merged dataset to a new Excel file\n",
    "# merged_dengue_data.to_excel('merged_dengue_dataset.xlsx', index=False)\n",
    "\n",
    "# # Display the first few rows of the merged dataset\n",
    "# print(merged_dengue_data.head())\n"
   ]
  },
  {
   "cell_type": "code",
   "execution_count": null,
   "metadata": {},
   "outputs": [],
   "source": [
    "# print(merged_dengue_data.tail())"
   ]
  },
  {
   "cell_type": "code",
   "execution_count": 4,
   "metadata": {},
   "outputs": [
    {
     "name": "stdout",
     "output_type": "stream",
     "text": [
      "        date district    rainfall   min temp   max temp  mean temp  \\\n",
      "0 2011-01-31   Ampara  679.721439  21.789041  26.882796  23.939401   \n",
      "1 2011-02-28   Ampara  533.827970  22.309999  28.360154  24.932640   \n",
      "2 2011-03-31   Ampara   92.269087  22.493815  30.511428  25.966950   \n",
      "3 2011-04-30   Ampara  211.250235  23.693299  31.875488  27.026611   \n",
      "4 2011-05-31   Ampara   46.897325  25.055955  33.905659  29.092735   \n",
      "\n",
      "   wind speed  dew point  surface pressure  relative humidity  cloud coverage  \\\n",
      "0    2.489429  21.738182      99869.278348          87.501234        0.803371   \n",
      "1    2.004060  22.150662      99885.309153          84.547353        0.795664   \n",
      "2    1.257147  22.677968      99860.783875          82.094719        0.628763   \n",
      "3    0.887599  23.344425      99809.878982          80.294507        0.540800   \n",
      "4    1.857853  23.699582      99681.169959          72.717573        0.471534   \n",
      "\n",
      "   solar radiation  min elevation  max elevation  mean elevation  tree_cover  \\\n",
      "0       375.340592            -20            858       65.859763   26.595149   \n",
      "1       501.604819            -20            858       65.859763   26.595149   \n",
      "2       676.279411            -20            858       65.859763   26.595149   \n",
      "3       788.934695            -20            858       65.859763   26.595149   \n",
      "4       828.511698            -20            858       65.859763   26.595149   \n",
      "\n",
      "   urbanization  \n",
      "0      1.989998  \n",
      "1      1.989998  \n",
      "2      1.989998  \n",
      "3      1.989998  \n",
      "4      1.989998  \n"
     ]
    }
   ],
   "source": [
    "import pandas as pd\n",
    "\n",
    "# List of Excel files\n",
    "file_names = [\n",
    "    '_dengue_dataset_2011.xlsx',\n",
    "    '_dengue_dataset_2012.xlsx',\n",
    "    '_dengue_dataset_2013.xlsx',\n",
    "    '_dengue_dataset_2014.xlsx',\n",
    "    '_dengue_dataset_2015.xlsx',\n",
    "    '_dengue_dataset_2016.xlsx',\n",
    "    '_dengue_dataset_2017.xlsx',\n",
    "    '_dengue_dataset_2018.xlsx',\n",
    "    '_dengue_dataset_2019.xlsx',\n",
    "    '_dengue_dataset_2020.xlsx'\n",
    "]\n",
    "\n",
    "# Initialize an empty list to hold the DataFrames\n",
    "dataframes = []\n",
    "\n",
    "# Loop through each file, read it, and append to the list\n",
    "for file in file_names:\n",
    "    df = pd.read_excel(file)\n",
    "    dataframes.append(df)\n",
    "\n",
    "# Concatenate all DataFrames into one\n",
    "merged_dengue_data = pd.concat(dataframes, axis=0)\n",
    "\n",
    "# Reset index if necessary\n",
    "merged_dengue_data.reset_index(drop=True, inplace=True)\n",
    "\n",
    "# Save the merged dataset to a new Excel file\n",
    "merged_dengue_data.to_excel('merged_dengue_dataset_2011_to_2020.xlsx', index=False)\n",
    "\n",
    "# Display the first few rows of the merged dataset\n",
    "print(merged_dengue_data.head())\n"
   ]
  },
  {
   "cell_type": "code",
   "execution_count": 5,
   "metadata": {},
   "outputs": [
    {
     "name": "stderr",
     "output_type": "stream",
     "text": [
      "C:\\Users\\USER\\AppData\\Local\\Temp\\ipykernel_5764\\3073714586.py:38: DeprecationWarning: DataFrameGroupBy.apply operated on the grouping columns. This behavior is deprecated, and in a future version of pandas the grouping columns will be excluded from the operation. Either pass `include_groups=False` to exclude the groupings or explicitly select the grouping columns after groupby to silence this warning.\n",
      "  grouped_by_district_df = grouped_by_district.apply(lambda x: x.reset_index(drop=True))\n"
     ]
    },
    {
     "name": "stdout",
     "output_type": "stream",
     "text": [
      "                 date district    rainfall   min temp   max temp  mean temp  \\\n",
      "district                                                                      \n",
      "Ampara   0 2011-01-31   Ampara  679.721439  21.789041  26.882796  23.939401   \n",
      "         1 2011-02-28   Ampara  533.827970  22.309999  28.360154  24.932640   \n",
      "         2 2011-03-31   Ampara   92.269087  22.493815  30.511428  25.966950   \n",
      "         3 2011-04-30   Ampara  211.250235  23.693299  31.875488  27.026611   \n",
      "         4 2011-05-31   Ampara   46.897325  25.055955  33.905659  29.092735   \n",
      "\n",
      "            wind speed  dew point  surface pressure  relative humidity  \\\n",
      "district                                                                 \n",
      "Ampara   0    2.489429  21.738182      99869.278348          87.501234   \n",
      "         1    2.004060  22.150662      99885.309153          84.547353   \n",
      "         2    1.257147  22.677968      99860.783875          82.094719   \n",
      "         3    0.887599  23.344425      99809.878982          80.294507   \n",
      "         4    1.857853  23.699582      99681.169959          72.717573   \n",
      "\n",
      "            cloud coverage  solar radiation  min elevation  max elevation  \\\n",
      "district                                                                    \n",
      "Ampara   0        0.803371       375.340592            -20            858   \n",
      "         1        0.795664       501.604819            -20            858   \n",
      "         2        0.628763       676.279411            -20            858   \n",
      "         3        0.540800       788.934695            -20            858   \n",
      "         4        0.471534       828.511698            -20            858   \n",
      "\n",
      "            mean elevation  tree_cover  urbanization  \n",
      "district                                              \n",
      "Ampara   0       65.859763   26.595149      1.989998  \n",
      "         1       65.859763   26.595149      1.989998  \n",
      "         2       65.859763   26.595149      1.989998  \n",
      "         3       65.859763   26.595149      1.989998  \n",
      "         4       65.859763   26.595149      1.989998  \n"
     ]
    }
   ],
   "source": [
    "import pandas as pd\n",
    "\n",
    "# List of Excel files\n",
    "file_names = [\n",
    "    '_dengue_dataset_2011.xlsx',\n",
    "    '_dengue_dataset_2012.xlsx',\n",
    "    '_dengue_dataset_2013.xlsx',\n",
    "    '_dengue_dataset_2014.xlsx',\n",
    "    '_dengue_dataset_2015.xlsx',\n",
    "    '_dengue_dataset_2016.xlsx',\n",
    "    '_dengue_dataset_2017.xlsx',\n",
    "    '_dengue_dataset_2018.xlsx',\n",
    "    '_dengue_dataset_2019.xlsx',\n",
    "    '_dengue_dataset_2020.xlsx'\n",
    "]\n",
    "\n",
    "# Initialize an empty list to hold the DataFrames\n",
    "dataframes = []\n",
    "\n",
    "# Loop through each file, read it, and append to the list\n",
    "for file in file_names:\n",
    "    df = pd.read_excel(file)\n",
    "    dataframes.append(df)\n",
    "\n",
    "# Concatenate all DataFrames into one\n",
    "merged_dengue_data = pd.concat(dataframes, axis=0)\n",
    "\n",
    "# Reset index if necessary\n",
    "merged_dengue_data.reset_index(drop=True, inplace=True)\n",
    "\n",
    "# Group the data by 'district'\n",
    "grouped_by_district = merged_dengue_data.groupby('district')\n",
    "\n",
    "# Optionally, you can aggregate the data (e.g., summing up cases, etc.)\n",
    "# grouped_by_district = merged_dengue_data.groupby('district').agg({'cases': 'sum', 'other_column': 'mean', ...})\n",
    "\n",
    "# Save the grouped data to a new Excel file\n",
    "grouped_by_district_df = grouped_by_district.apply(lambda x: x.reset_index(drop=True))\n",
    "grouped_by_district_df.to_excel('test12.xlsx', index=False)\n",
    "\n",
    "# Display the first few rows of the grouped data\n",
    "print(grouped_by_district_df.head())\n"
   ]
  },
  {
   "cell_type": "code",
   "execution_count": 2,
   "metadata": {},
   "outputs": [
    {
     "name": "stdout",
     "output_type": "stream",
     "text": [
      "        date district    rainfall   min temp   max temp  mean temp  \\\n",
      "0 2011-01-31   Ampara  679.721439  21.789041  26.882796  23.939401   \n",
      "1 2011-02-28   Ampara  533.827970  22.309999  28.360154  24.932640   \n",
      "2 2011-03-31   Ampara   92.269087  22.493815  30.511428  25.966950   \n",
      "3 2011-04-30   Ampara  211.250235  23.693299  31.875488  27.026611   \n",
      "4 2011-05-31   Ampara   46.897325  25.055955  33.905659  29.092735   \n",
      "5 2011-06-30   Ampara   11.304953  25.717108  34.792230  29.946976   \n",
      "6 2011-07-31   Ampara   30.718765  25.716644  34.462340  29.440357   \n",
      "7 2011-08-31   Ampara   69.604140  25.390427  34.436345  29.194857   \n",
      "8 2011-09-30   Ampara   57.401539  25.067440  34.676410  29.232175   \n",
      "9 2011-10-31   Ampara  236.770412  24.162157  31.606577  27.122260   \n",
      "\n",
      "   wind speed  dew point  surface pressure  relative humidity  cloud coverage  \\\n",
      "0    2.489429  21.738182      99869.278348          87.501234        0.803371   \n",
      "1    2.004060  22.150662      99885.309153          84.547353        0.795664   \n",
      "2    1.257147  22.677968      99860.783875          82.094719        0.628763   \n",
      "3    0.887599  23.344425      99809.878982          80.294507        0.540800   \n",
      "4    1.857853  23.699582      99681.169959          72.717573        0.471534   \n",
      "5    2.594600  21.550180      99591.200822          60.745317        0.299741   \n",
      "6    2.466781  21.431701      99568.028708          62.093211        0.619900   \n",
      "7    2.380449  21.612510      99617.778712          63.682185        0.471801   \n",
      "8    2.232498  21.715611      99730.887764          63.947024        0.422030   \n",
      "9    0.963468  23.226150      99795.921104          79.275559        0.597654   \n",
      "\n",
      "   solar radiation  min elevation  max elevation  mean elevation  tree_cover  \\\n",
      "0       375.340592            -20            858       65.859763   26.595149   \n",
      "1       501.604819            -20            858       65.859763   26.595149   \n",
      "2       676.279411            -20            858       65.859763   26.595149   \n",
      "3       788.934695            -20            858       65.859763   26.595149   \n",
      "4       828.511698            -20            858       65.859763   26.595149   \n",
      "5       835.166941            -20            858       65.859763   26.595149   \n",
      "6       773.860112            -20            858       65.859763   26.595149   \n",
      "7       764.917435            -20            858       65.859763   26.595149   \n",
      "8       840.290701            -20            858       65.859763   26.595149   \n",
      "9       720.035203            -20            858       65.859763   26.595149   \n",
      "\n",
      "   urbanization  \n",
      "0      1.989998  \n",
      "1      1.989998  \n",
      "2      1.989998  \n",
      "3      1.989998  \n",
      "4      1.989998  \n",
      "5      1.989998  \n",
      "6      1.989998  \n",
      "7      1.989998  \n",
      "8      1.989998  \n",
      "9      1.989998  \n"
     ]
    }
   ],
   "source": [
    "import pandas as pd\n",
    "\n",
    "df=pd.read_excel('merged_dengue_dataset_2011_to_2020_by_district.xlsx')\n",
    "print(df.head(10))"
   ]
  },
  {
   "cell_type": "code",
   "execution_count": 3,
   "metadata": {},
   "outputs": [
    {
     "data": {
      "text/plain": [
       "date                 datetime64[ns]\n",
       "district                     object\n",
       "rainfall                    float64\n",
       "min temp                    float64\n",
       "max temp                    float64\n",
       "mean temp                   float64\n",
       "wind speed                  float64\n",
       "dew point                   float64\n",
       "surface pressure            float64\n",
       "relative humidity           float64\n",
       "cloud coverage              float64\n",
       "solar radiation             float64\n",
       "min elevation                 int64\n",
       "max elevation                 int64\n",
       "mean elevation              float64\n",
       "tree_cover                  float64\n",
       "urbanization                float64\n",
       "dtype: object"
      ]
     },
     "execution_count": 3,
     "metadata": {},
     "output_type": "execute_result"
    }
   ],
   "source": [
    "df.dtypes\n"
   ]
  },
  {
   "cell_type": "code",
   "execution_count": 6,
   "metadata": {},
   "outputs": [
    {
     "name": "stdout",
     "output_type": "stream",
     "text": [
      "           date     district    rainfall   min temp   max temp  mean temp  \\\n",
      "36   2014-01-31       Ampara  120.100373  21.923976  27.873376  24.505662   \n",
      "1416 2014-01-31  Kilinochchi  180.929063  24.255027  26.598590  25.392065   \n",
      "2336 2014-01-31  Polonnaruwa  229.751326  21.630108  27.934422  24.427670   \n",
      "1991 2014-01-31   Moneragala   84.614886  20.235332  27.398928  23.382532   \n",
      "266  2014-01-31      Badulla  136.783082  19.026352  25.423810  21.777085   \n",
      "496  2014-01-31      Colombo   68.095972  23.882068  31.196704  27.161854   \n",
      "956  2014-01-31       Jaffna  135.025416  24.652837  26.026704  25.415213   \n",
      "381  2014-01-31   Batticaloa  215.274398  22.641624  27.901822  25.025919   \n",
      "726  2014-01-31      Gampaha   52.410203  23.587180  30.197258  26.487184   \n",
      "1186 2014-01-31        Kandy  137.127217  20.084671  26.771611  22.979565   \n",
      "\n",
      "      wind speed  dew point  surface pressure  relative humidity  \\\n",
      "36      2.314742  21.814341     100151.778457          84.971592   \n",
      "1416    5.608055  21.751842     101258.291436          80.284197   \n",
      "2336    2.485453  21.774447     100086.574836          85.161668   \n",
      "1991    1.833784  20.610192      97479.973849          84.431493   \n",
      "266     1.157021  19.490645      94261.459393          86.847910   \n",
      "496     3.968569  21.258391     100925.625205          70.155311   \n",
      "956     7.131893  21.222143     101310.128030          77.613227   \n",
      "381     2.851187  22.117880     100875.085100          83.910010   \n",
      "726     4.337440  21.767799     100862.130960          75.312337   \n",
      "1186    2.042517  20.303418      96032.073257          84.891585   \n",
      "\n",
      "      cloud coverage  solar radiation  min elevation  max elevation  \\\n",
      "36          0.798244       448.725710            -20            858   \n",
      "1416        0.698622       512.065477            -17             59   \n",
      "2336        0.876192       452.263704             -4            533   \n",
      "1991        0.611716       546.295895             14           1482   \n",
      "266         0.742427       451.608979             65           2218   \n",
      "496         0.512897       672.535777            -13            452   \n",
      "956         0.758889       515.077979            -19             34   \n",
      "381         0.790831       445.522385            -11            385   \n",
      "726         0.392031       676.230763            -11            306   \n",
      "1186        0.665830       571.952220             67           1888   \n",
      "\n",
      "      mean elevation  tree_cover  urbanization  \n",
      "36         65.859763   22.149158      1.989998  \n",
      "1416       12.929901   16.450222      1.982390  \n",
      "2336       76.936726   25.892722      1.991564  \n",
      "1991      163.641252   28.197899      1.993537  \n",
      "266       623.716933   31.025144      2.022577  \n",
      "496        36.288229   20.998276      3.033678  \n",
      "956         6.616899    6.404997      2.301368  \n",
      "381        26.011840   11.732493      1.982883  \n",
      "726        34.520424   27.127415      2.477466  \n",
      "1186      656.256171   43.919310      2.047060  \n"
     ]
    }
   ],
   "source": [
    "# Filter the dataframe to include only rows where the date is on or after 2014-01-01\n",
    "start_date = '2014-01-01'\n",
    "df = df[df['date'] >= start_date]\n",
    "df = df.sort_values(by='date')\n",
    "print(df.head(10))\n"
   ]
  },
  {
   "cell_type": "code",
   "execution_count": 8,
   "metadata": {},
   "outputs": [],
   "source": [
    "df.to_excel('rearranged_dengue_dataset.xlsx', index=False)\n"
   ]
  }
 ],
 "metadata": {
  "kernelspec": {
   "display_name": "dengue",
   "language": "python",
   "name": "python3"
  },
  "language_info": {
   "codemirror_mode": {
    "name": "ipython",
    "version": 3
   },
   "file_extension": ".py",
   "mimetype": "text/x-python",
   "name": "python",
   "nbconvert_exporter": "python",
   "pygments_lexer": "ipython3",
   "version": "3.12.0"
  }
 },
 "nbformat": 4,
 "nbformat_minor": 2
}
